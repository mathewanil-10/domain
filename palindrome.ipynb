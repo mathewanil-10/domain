{
 "cells": [
  {
   "cell_type": "code",
   "execution_count": 1,
   "id": "7870bf02-38cb-4dee-b3ba-dd2cfe9e50cf",
   "metadata": {},
   "outputs": [
    {
     "name": "stdout",
     "output_type": "stream",
     "text": [
      "Is 'madam' a palindrome? True\n"
     ]
    }
   ],
   "source": [
    "\n",
    "text = \"madam\"\n",
    "normalized = text.replace(\" \", \"\").lower()\n",
    "is_palindrome = normalized == normalized[::-1]\n",
    "print(f\"Is '{text}' a palindrome? {is_palindrome}\")"
   ]
  },
  {
   "cell_type": "code",
   "execution_count": null,
   "id": "15f52b7d-68a0-4047-96c7-7471da4762c0",
   "metadata": {},
   "outputs": [],
   "source": []
  }
 ],
 "metadata": {
  "kernelspec": {
   "display_name": "Python [conda env:base] *",
   "language": "python",
   "name": "conda-base-py"
  },
  "language_info": {
   "codemirror_mode": {
    "name": "ipython",
    "version": 3
   },
   "file_extension": ".py",
   "mimetype": "text/x-python",
   "name": "python",
   "nbconvert_exporter": "python",
   "pygments_lexer": "ipython3",
   "version": "3.12.7"
  }
 },
 "nbformat": 4,
 "nbformat_minor": 5
}
