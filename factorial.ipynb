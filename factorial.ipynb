{
 "cells": [
  {
   "cell_type": "code",
   "execution_count": 4,
   "id": "aeb983c7-81d3-4015-99e1-07a8e16ad106",
   "metadata": {},
   "outputs": [
    {
     "name": "stdout",
     "output_type": "stream",
     "text": [
      "16! = 20922789888000\n",
      "20! = 2432902008176640000\n"
     ]
    }
   ],
   "source": [
    "import math\n",
    "\n",
    "# Numbers to calculate factorial for\n",
    "numbers = [16, 20]\n",
    "\n",
    "for n in numbers:\n",
    "    factorial = math.factorial(n)\n",
    "    print(f\"{n}! = {factorial}\")\n"
   ]
  },
  {
   "cell_type": "code",
   "execution_count": null,
   "id": "cd795f34-0449-43ee-bf5c-51200f7031dc",
   "metadata": {},
   "outputs": [],
   "source": []
  }
 ],
 "metadata": {
  "kernelspec": {
   "display_name": "Python [conda env:base] *",
   "language": "python",
   "name": "conda-base-py"
  },
  "language_info": {
   "codemirror_mode": {
    "name": "ipython",
    "version": 3
   },
   "file_extension": ".py",
   "mimetype": "text/x-python",
   "name": "python",
   "nbconvert_exporter": "python",
   "pygments_lexer": "ipython3",
   "version": "3.12.7"
  }
 },
 "nbformat": 4,
 "nbformat_minor": 5
}
