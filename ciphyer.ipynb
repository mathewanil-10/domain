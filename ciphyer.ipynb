{
 "cells": [
  {
   "cell_type": "code",
   "execution_count": 2,
   "id": "2431db0b-d97e-4f08-97d0-340d3bb4f3a7",
   "metadata": {},
   "outputs": [
    {
     "name": "stdout",
     "output_type": "stream",
     "text": [
      "Original: Hello, World! This is a test.\n",
      "Encrypted: Pmttw, Ewztl! Bpqa qa i bmab.\n",
      "Decrypted: Hello, World! This is a test.\n"
     ]
    }
   ],
   "source": [
    "def encrypt_substitution(text, shift):\n",
    "    result = []\n",
    "    for char in text:\n",
    "        if char.isalpha():\n",
    "            base = ord('A') if char.isupper() else ord('a')\n",
    "            shifted = (ord(char) - base + shift) % 26 + base\n",
    "            result.append(chr(shifted))\n",
    "        else:\n",
    "            result.append(char)\n",
    "    return ''.join(result)\n",
    "\n",
    "def decrypt_substitution(text, shift):\n",
    "    return encrypt_substitution(text, -shift)\n",
    "\n",
    "def multi_layer_encrypt(text, shifts):\n",
    "    for shift in shifts:\n",
    "        text = encrypt_substitution(text, shift)\n",
    "    return text\n",
    "\n",
    "def multi_layer_decrypt(text, shifts):\n",
    "    for shift in reversed(shifts):\n",
    "        text = decrypt_substitution(text, shift)\n",
    "    return text\n",
    "if __name__ == \"__main__\":\n",
    "    message = \"Hello, World! This is a test.\"\n",
    "    shifts = [3, 5] \n",
    "\n",
    "    encrypted = multi_layer_encrypt(message, shifts)\n",
    "    decrypted = multi_layer_decrypt(encrypted, shifts)\n",
    "\n",
    "    print(\"Original:\", message)\n",
    "    print(\"Encrypted:\", encrypted)\n",
    "    print(\"Decrypted:\", decrypted)\n"
   ]
  },
  {
   "cell_type": "code",
   "execution_count": null,
   "id": "ddfe7a8d-e13e-45de-b48a-6c92962d40de",
   "metadata": {},
   "outputs": [],
   "source": []
  }
 ],
 "metadata": {
  "kernelspec": {
   "display_name": "Python [conda env:base] *",
   "language": "python",
   "name": "conda-base-py"
  },
  "language_info": {
   "codemirror_mode": {
    "name": "ipython",
    "version": 3
   },
   "file_extension": ".py",
   "mimetype": "text/x-python",
   "name": "python",
   "nbconvert_exporter": "python",
   "pygments_lexer": "ipython3",
   "version": "3.12.7"
  }
 },
 "nbformat": 4,
 "nbformat_minor": 5
}
