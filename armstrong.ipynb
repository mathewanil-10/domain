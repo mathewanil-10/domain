{
 "cells": [
  {
   "cell_type": "code",
   "execution_count": 7,
   "id": "d756d704-c238-4b1b-81a5-166faa412f46",
   "metadata": {},
   "outputs": [
    {
     "name": "stdout",
     "output_type": "stream",
     "text": [
      "True\n"
     ]
    }
   ],
   "source": [
    "def is_armstrong(n):\n",
    "    digits = str(n)\n",
    "    length = len(digits)\n",
    "    total = sum(int(digit) ** length for digit in digits)\n",
    "    return total == n\n",
    "\n",
    "print(is_armstrong(370))\n"
   ]
  },
  {
   "cell_type": "code",
   "execution_count": null,
   "id": "2d730855-fa59-4f70-8e9e-85083aa2f0e2",
   "metadata": {},
   "outputs": [],
   "source": []
  }
 ],
 "metadata": {
  "kernelspec": {
   "display_name": "Python [conda env:base] *",
   "language": "python",
   "name": "conda-base-py"
  },
  "language_info": {
   "codemirror_mode": {
    "name": "ipython",
    "version": 3
   },
   "file_extension": ".py",
   "mimetype": "text/x-python",
   "name": "python",
   "nbconvert_exporter": "python",
   "pygments_lexer": "ipython3",
   "version": "3.12.7"
  }
 },
 "nbformat": 4,
 "nbformat_minor": 5
}
