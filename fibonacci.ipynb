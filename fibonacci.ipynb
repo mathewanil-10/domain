{
 "cells": [
  {
   "cell_type": "code",
   "execution_count": 2,
   "id": "b8b8f745-6755-40a5-b710-910a4ac99d36",
   "metadata": {},
   "outputs": [
    {
     "name": "stdout",
     "output_type": "stream",
     "text": [
      "The first 10 Fibonacci numbers are:\n",
      "[0, 1, 1, 2, 3, 5, 8, 13, 21, 34]\n"
     ]
    }
   ],
   "source": [
    "# Number of Fibonacci numbers to generate\n",
    "n = 10  # you can change this to any integer\n",
    "\n",
    "# Initialize the Fibonacci sequence\n",
    "fibonacci = []\n",
    "\n",
    "# Generate Fibonacci sequence\n",
    "for i in range(n):\n",
    "    if i == 0:\n",
    "        fibonacci.append(0)\n",
    "    elif i == 1:\n",
    "        fibonacci.append(1)\n",
    "    else:\n",
    "        fibonacci.append(fibonacci[i - 1] + fibonacci[i - 2])\n",
    "\n",
    "# Output the result\n",
    "print(f\"The first {n} Fibonacci numbers are:\")\n",
    "print(fibonacci)\n"
   ]
  },
  {
   "cell_type": "code",
   "execution_count": null,
   "id": "1191a26b-141a-470a-83db-a077fb8f180e",
   "metadata": {},
   "outputs": [],
   "source": []
  }
 ],
 "metadata": {
  "kernelspec": {
   "display_name": "Python [conda env:base] *",
   "language": "python",
   "name": "conda-base-py"
  },
  "language_info": {
   "codemirror_mode": {
    "name": "ipython",
    "version": 3
   },
   "file_extension": ".py",
   "mimetype": "text/x-python",
   "name": "python",
   "nbconvert_exporter": "python",
   "pygments_lexer": "ipython3",
   "version": "3.12.7"
  }
 },
 "nbformat": 4,
 "nbformat_minor": 5
}
